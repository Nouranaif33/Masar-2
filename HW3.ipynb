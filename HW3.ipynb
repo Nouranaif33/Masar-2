{
  "nbformat": 4,
  "nbformat_minor": 0,
  "metadata": {
    "colab": {
      "provenance": [],
      "authorship_tag": "ABX9TyNse6fHW1XHzcG2FlaFnF0D",
      "include_colab_link": true
    },
    "kernelspec": {
      "name": "python3",
      "display_name": "Python 3"
    },
    "language_info": {
      "name": "python"
    }
  },
  "cells": [
    {
      "cell_type": "markdown",
      "metadata": {
        "id": "view-in-github",
        "colab_type": "text"
      },
      "source": [
        "<a href=\"https://colab.research.google.com/github/Nouranaif33/Masar-2/blob/main/HW3.ipynb\" target=\"_parent\"><img src=\"https://colab.research.google.com/assets/colab-badge.svg\" alt=\"Open In Colab\"/></a>"
      ]
    },
    {
      "cell_type": "code",
      "source": [
        "# Set the value of 'n' to 5 (this will determine the number of lines in the pattern)\n",
        "n = 5\n",
        "\n",
        "# Iterate through the range of numbers from 0 to 'n' (exclusive)\n",
        "for i in range(n):\n",
        "    # Iterate through the range of numbers from 0 to 'i' (exclusive) for each 'i' in the outer loop\n",
        "    for j in range(i):\n",
        "        # Print '*' followed by a space without a new line (end=\"\" ensures printing in the same line)\n",
        "        print('* ', end=\"\")\n",
        "    # Move to the next line after printing '*' characters for the current 'i'\n",
        "    print('')\n",
        "\n",
        "# Iterate through the range of numbers from 'n' down to 1 (inclusive), decreasing by 1 in each iteration\n",
        "for i in range(n, 0, -1):\n",
        "    # Iterate through the range of numbers from 0 to 'i' (exclusive) for each 'i' in the outer loop\n",
        "    for j in range(i):\n",
        "        # Print '*' followed by a space without a new line (end=\"\" ensures printing in the same line)\n",
        "        print('* ', end=\"\")\n",
        "    # Move to the next line after printing '*' characters for the current 'i'\n",
        "    print('')"
      ],
      "metadata": {
        "colab": {
          "base_uri": "https://localhost:8080/"
        },
        "id": "YMqz_WuHyIf5",
        "outputId": "77130cf6-97d3-4cd8-ca96-5f661da9ac9d"
      },
      "execution_count": 1,
      "outputs": [
        {
          "output_type": "stream",
          "name": "stdout",
          "text": [
            "\n",
            "* \n",
            "* * \n",
            "* * * \n",
            "* * * * \n",
            "* * * * * \n",
            "* * * * \n",
            "* * * \n",
            "* * \n",
            "* \n"
          ]
        }
      ]
    },
    {
      "cell_type": "code",
      "source": [
        "def is_prime(num):\n",
        "    \"\"\"Check if a number is prime.\"\"\"\n",
        "    if num < 2:\n",
        "        return False\n",
        "    for i in range(2, int(num**0.5) + 1):\n",
        "        if num % i == 0:\n",
        "            return False\n",
        "    return True\n",
        "\n",
        "# Find the first 3 prime numbers greater than 10 but less than 99\n",
        "count = 0\n",
        "number = 11  # Start checking from 11\n",
        "\n",
        "while count < 3:\n",
        "    if is_prime(number):\n",
        "        print(number)\n",
        "        count += 1\n",
        "    number += 1"
      ],
      "metadata": {
        "colab": {
          "base_uri": "https://localhost:8080/"
        },
        "id": "Ukkgd4XUyR3U",
        "outputId": "794c41a4-e8ac-4c30-8a3e-5d365d51cf12"
      },
      "execution_count": 3,
      "outputs": [
        {
          "output_type": "stream",
          "name": "stdout",
          "text": [
            "11\n",
            "13\n",
            "17\n"
          ]
        }
      ]
    }
  ]
}