{
  "nbformat": 4,
  "nbformat_minor": 0,
  "metadata": {
    "colab": {
      "provenance": [],
      "authorship_tag": "ABX9TyMVW+lRUmGyESDNhuqNbTkr",
      "include_colab_link": true
    },
    "kernelspec": {
      "name": "python3",
      "display_name": "Python 3"
    },
    "language_info": {
      "name": "python"
    }
  },
  "cells": [
    {
      "cell_type": "markdown",
      "metadata": {
        "id": "view-in-github",
        "colab_type": "text"
      },
      "source": [
        "<a href=\"https://colab.research.google.com/github/Nouranaif33/Masar-2/blob/main/Python_HW_1%E2%80%8F.ipynb\" target=\"_parent\"><img src=\"https://colab.research.google.com/assets/colab-badge.svg\" alt=\"Open In Colab\"/></a>"
      ]
    },
    {
      "cell_type": "code",
      "execution_count": 21,
      "metadata": {
        "colab": {
          "base_uri": "https://localhost:8080/"
        },
        "id": "k8lhxu-7Skrd",
        "outputId": "13f51e76-20b4-4abd-ff39-5f33d3b14479"
      },
      "outputs": [
        {
          "output_type": "stream",
          "name": "stdout",
          "text": [
            "hello everyone my name isNoura My age is25 I will become the best data scientist\n"
          ]
        }
      ],
      "source": [
        "#The first code with Masar\n",
        "\n",
        "\n",
        "name=\"Noura\"\n",
        "age=25\n",
        "print(\"hello everyone my name is\"+  name , \"My age is\"+ str(age),\"I will become the best data scientist\" )"
      ]
    }
  ]
}