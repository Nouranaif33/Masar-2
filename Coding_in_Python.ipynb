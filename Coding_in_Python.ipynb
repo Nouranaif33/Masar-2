{
  "nbformat": 4,
  "nbformat_minor": 0,
  "metadata": {
    "colab": {
      "provenance": [],
      "include_colab_link": true
    },
    "kernelspec": {
      "name": "python3",
      "display_name": "Python 3"
    },
    "language_info": {
      "name": "python"
    }
  },
  "cells": [
    {
      "cell_type": "markdown",
      "metadata": {
        "id": "view-in-github",
        "colab_type": "text"
      },
      "source": [
        "<a href=\"https://colab.research.google.com/github/Nouranaif33/Masar-2/blob/main/Coding_in_Python.ipynb\" target=\"_parent\"><img src=\"https://colab.research.google.com/assets/colab-badge.svg\" alt=\"Open In Colab\"/></a>"
      ]
    },
    {
      "cell_type": "markdown",
      "source": [
        "1. Loop:\n",
        "Question:\n",
        "Write a Python program that uses a 'for' loop to print all even numbers from 1 to 10. Then, use 'while' loop."
      ],
      "metadata": {
        "id": "s3ipcakz3HYv"
      }
    },
    {
      "cell_type": "code",
      "execution_count": 1,
      "metadata": {
        "id": "Zox_Orcl3Eug",
        "colab": {
          "base_uri": "https://localhost:8080/"
        },
        "outputId": "9c31a1d6-daa2-4c53-d15a-b882a2358cc5"
      },
      "outputs": [
        {
          "output_type": "stream",
          "name": "stdout",
          "text": [
            "Using for loop:\n",
            "2\n",
            "4\n",
            "6\n",
            "8\n",
            "10\n",
            "\n",
            "Using while loop:\n",
            "2\n",
            "4\n",
            "6\n",
            "8\n",
            "10\n"
          ]
        }
      ],
      "source": [
        "# Using for loop\n",
        "print(\"Using for loop:\")\n",
        "for i in range(2, 11, 2):\n",
        "    print(i)\n",
        "\n",
        "# Using while loop\n",
        "print(\"\\nUsing while loop:\")\n",
        "num = 2\n",
        "while num <= 10:\n",
        "    print(num)\n",
        "    num += 2"
      ]
    },
    {
      "cell_type": "markdown",
      "source": [
        "2. Control Flows:\n",
        "Question:\n",
        "Create a Python function named grade_classifier that takes a student's score as an argument and returns a string indicating their grade. Use the following criteria:\n",
        "\n",
        "Score >= 90: \"A\"\n",
        "80 <= Score < 90: \"B\"\n",
        "70 <= Score < 80: \"C\"\n",
        "60 <= Score < 70: \"D\"\n",
        "Score < 60: \"F\""
      ],
      "metadata": {
        "id": "2mJD3d1P3XwY"
      }
    },
    {
      "cell_type": "code",
      "source": [
        "def grade_classifier(score):\n",
        "    if score >= 90:\n",
        "        return \"A\"\n",
        "    elif score >= 80:\n",
        "        return \"B\"\n",
        "    elif score >= 70:\n",
        "        return \"C\"\n",
        "    elif score >= 60:\n",
        "        return \"D\"\n",
        "    else:\n",
        "        return \"F\"\n",
        "\n",
        "# Example:\n",
        "score = 90\n",
        "print(f\"The grade for the score {score} is: {grade_classifier(score)}\")"
      ],
      "metadata": {
        "id": "i0E9273Y3aat",
        "colab": {
          "base_uri": "https://localhost:8080/"
        },
        "outputId": "804e2e83-b5fb-4f1e-e79b-a26ccdd65151"
      },
      "execution_count": 2,
      "outputs": [
        {
          "output_type": "stream",
          "name": "stdout",
          "text": [
            "The grade for the score 90 is: A\n"
          ]
        }
      ]
    },
    {
      "cell_type": "markdown",
      "source": [
        "3. If Conditions:\n",
        "Question:\n",
        "Write a Python program that prompts the user to enter their age. Use if-elif-else statements to categorize and print the user's age group as follows:\n",
        "\n",
        "If the age is less than 13, print \"Child.\"\n",
        "If the age is between 13 and 19 (inclusive), print \"Teenager.\"\n",
        "If the age is between 20 and 59 (inclusive), print \"Adult.\"\n",
        "If the age is 60 or older, print \"Senior Citizen.\""
      ],
      "metadata": {
        "id": "w7EeMAF83cHA"
      }
    },
    {
      "cell_type": "code",
      "source": [
        "\n",
        "age = int(input(\"Please enter your age: \"))\n",
        "\n",
        "\n",
        "if age < 13:\n",
        "    print(\"Child.\")\n",
        "elif 13 <= age <= 19:\n",
        "    print(\"Teenager.\")\n",
        "elif 20 <= age <= 59:\n",
        "    print(\"Adult.\")\n",
        "else:\n",
        "    print(\"Senior Citizen.\")"
      ],
      "metadata": {
        "id": "FUEtX83a3o9C",
        "colab": {
          "base_uri": "https://localhost:8080/"
        },
        "outputId": "5c0d44e5-1943-45ca-86ca-a279f49eadef"
      },
      "execution_count": 3,
      "outputs": [
        {
          "output_type": "stream",
          "name": "stdout",
          "text": [
            "Please enter your age: 29\n",
            "Adult.\n"
          ]
        }
      ]
    },
    {
      "cell_type": "markdown",
      "source": [
        "4. Functions:\n",
        "Question:\n",
        "Define a Python function named multiply_numbers that takes two parameters (num1 and num2) and returns their product. Test the function with values 5 and 7."
      ],
      "metadata": {
        "id": "y9x9lhW63t1R"
      }
    },
    {
      "cell_type": "code",
      "source": [
        "def multiply_numbers(num1, num2):\n",
        "    return num1 * num2\n",
        "\n",
        "result = multiply_numbers(5, 7)\n",
        "print(\"The product of 5 and 7 is:\", result)"
      ],
      "metadata": {
        "id": "kHuQ4NMa3xqT",
        "colab": {
          "base_uri": "https://localhost:8080/"
        },
        "outputId": "5d3adcc1-e9cc-4fb5-9c9c-44f993240279"
      },
      "execution_count": 4,
      "outputs": [
        {
          "output_type": "stream",
          "name": "stdout",
          "text": [
            "The product of 5 and 7 is: 35\n"
          ]
        }
      ]
    },
    {
      "cell_type": "markdown",
      "source": [
        "5.\n",
        "Write a Python program that does the following:\n",
        "\n",
        "Prompts the user to enter a number (user_num).\n",
        "Uses a loop to print all numbers from 1 to user_num (inclusive) that are divisible by 3.\n"
      ],
      "metadata": {
        "id": "i8tO0E8U3zBB"
      }
    },
    {
      "cell_type": "code",
      "source": [
        "user_num = int(input(\"Please enter a number: \"))\n",
        "\n",
        "print(\"Numbers from 1 to\", user_num, \"that are divisible by 3:\")\n",
        "for i in range(1, user_num + 1):\n",
        "    if i % 3 == 0:\n",
        "        print(i)"
      ],
      "metadata": {
        "id": "i4Q2MOTY31tM",
        "colab": {
          "base_uri": "https://localhost:8080/"
        },
        "outputId": "4eb1922f-e1b2-4f99-a63c-5cd3199ce50b"
      },
      "execution_count": 5,
      "outputs": [
        {
          "output_type": "stream",
          "name": "stdout",
          "text": [
            "Please enter a number: 6\n",
            "Numbers from 1 to 6 that are divisible by 3:\n",
            "3\n",
            "6\n"
          ]
        }
      ]
    }
  ]
}